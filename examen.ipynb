{
  "nbformat": 4,
  "nbformat_minor": 0,
  "metadata": {
    "colab": {
      "name": "examen.ipynb",
      "provenance": [],
      "collapsed_sections": []
    },
    "kernelspec": {
      "display_name": "Python 3",
      "name": "python3"
    }
  },
  "cells": [
    {
      "cell_type": "code",
      "metadata": {
        "id": "pKyV9XHQ2J7B",
        "outputId": "6b165d4e-4cb8-4c36-caf4-594f86e8b630",
        "colab": {
          "base_uri": "https://localhost:8080/"
        }
      },
      "source": [
        "print(\"Resolucion de ecuaciones cuadraticas por formula general\")\n",
        "def raiz():\n",
        "   a=int (input(\"Valor a:\"))\n",
        "   b=int (input(\"Valor b:\"))\n",
        "   c=int (input(\"Valor c:\"))\n",
        "   D=(b**2)-(4*a*c)\n",
        "   while (D <0):\n",
        "     print(\"Error el discriminante tiene que ser positivo\")\n",
        "     a=float (input(\"Valor a:\"))\n",
        "     b=float (input(\"Valor b:\"))\n",
        "     c=float (input(\"Valor c:\"))\n",
        "     D=(b**2)-(4*a*c)\n",
        "   if (D>0):\n",
        "     x1=(-b + ((b**2)-(4*a*c))**(0.5))/(2*a)\n",
        "     x2=(-b - ((b**2)-(4*a*c))**(0.5))/(2*a)\n",
        "     print(\"x1=\",x1)\n",
        "     print(\"x2=\",x2)\n",
        "   else:\n",
        "     x=-b/(2*a)\n",
        "     print(\"x=\",x)\n",
        "print(\"Fin del programa\")\n",
        "raiz()\n"
      ],
      "execution_count": 2,
      "outputs": [
        {
          "output_type": "stream",
          "text": [
            "Resolucion de ecuaciones cuadraticas por formula general\n",
            "Fin del programa\n",
            "Valor a:1\n",
            "Valor b:2\n",
            "Valor c:1\n",
            "x= -1.0\n"
          ],
          "name": "stdout"
        }
      ]
    },
    {
      "cell_type": "code",
      "metadata": {
        "id": "WfMtZOfHmKkU",
        "outputId": "fbf7adbd-8948-4bac-e7ef-224ee7f388cf",
        "colab": {
          "base_uri": "https://localhost:8080/"
        }
      },
      "source": [
        ""
      ],
      "execution_count": null,
      "outputs": [
        {
          "output_type": "stream",
          "text": [
            "ingrese el valor de x=2\n",
            "0.1353352832366127\n"
          ],
          "name": "stdout"
        }
      ]
    },
    {
      "cell_type": "code",
      "metadata": {
        "id": "KV8_7VoByU7G",
        "outputId": "43bdcd48-0fb1-45c5-bb75-48008a584036",
        "colab": {
          "base_uri": "https://localhost:8080/"
        }
      },
      "source": [
        "from math import e\n",
        "print(\"Funcion f(x)=e**(-x)\")\n",
        "print()\n",
        "def exp():\n",
        " res=[]\n",
        " x= float (-4)\n",
        " while (-4<=x<=10):\n",
        "   f=(e**(-x))\n",
        "   res.append(f)\n",
        "   x=x+1\n",
        "   print(\"Para x=\",x-1,\"f(x)=\",f)\n",
        "   if (x==6):\n",
        "    f=(e**(-x))\n",
        "    res.append(f)\n",
        "    print(\"Para x=\",x,\"f(x)=\",f)\n",
        "    break\n",
        "\n",
        "x=float(input(\"Introduzca un valor para x= \")) \n",
        "print(\"e**(-x)=\",e**(-x),\"\\n\")\n",
        "print(\"Funcion evaluda en el intervalo: (-4<=x<=10) \\n\")\n",
        "\n",
        "exp()"
      ],
      "execution_count": 83,
      "outputs": [
        {
          "output_type": "stream",
          "text": [
            "Funcion f(x)=e**(-x)\n",
            "\n",
            "Introduzca un valor para x= 2\n",
            "e**(-x)= 0.1353352832366127 \n",
            "\n",
            "Funcion evaluda en el intervalo: (-4<=x<=10) \n",
            "\n",
            "Para x= -4.0 f(x)= 54.59815003314423\n",
            "Para x= -3.0 f(x)= 20.085536923187664\n",
            "Para x= -2.0 f(x)= 7.3890560989306495\n",
            "Para x= -1.0 f(x)= 2.718281828459045\n",
            "Para x= 0.0 f(x)= 1.0\n",
            "Para x= 1.0 f(x)= 0.36787944117144233\n",
            "Para x= 2.0 f(x)= 0.1353352832366127\n",
            "Para x= 3.0 f(x)= 0.04978706836786395\n",
            "Para x= 4.0 f(x)= 0.018315638888734186\n",
            "Para x= 5.0 f(x)= 0.006737946999085469\n",
            "Para x= 6.0 f(x)= 0.0024787521766663594\n"
          ],
          "name": "stdout"
        }
      ]
    },
    {
      "cell_type": "code",
      "metadata": {
        "id": "Q0LWWselBUQV"
      },
      "source": [
        ""
      ],
      "execution_count": 16,
      "outputs": []
    }
  ]
}